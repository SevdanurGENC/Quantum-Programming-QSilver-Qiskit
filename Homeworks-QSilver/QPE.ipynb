{
 "cells": [
  {
   "cell_type": "markdown",
   "metadata": {
    "deletable": false,
    "editable": false,
    "nbgrader": {
     "cell_type": "markdown",
     "checksum": "a73fbe0ac582d9d1bc262ba80f97238b",
     "grade": false,
     "grade_id": "cell-fbe6abe85e486269",
     "locked": true,
     "schema_version": 3,
     "solution": false,
     "task": false
    }
   },
   "source": [
    "# Instructions\n",
    "\n",
    "The places where you have enter code, to answer the questions, are marked with `# YOUR CODE HERE`. Once you have written your code you should remove the `raise NotImplementedError()` statement.\n",
    "\n",
    "The first two questions are on phase estimation and the rest is about order finding algorithm."
   ]
  },
  {
   "cell_type": "markdown",
   "metadata": {
    "deletable": false,
    "editable": false,
    "nbgrader": {
     "cell_type": "markdown",
     "checksum": "1a0ae903fb34bc1c3efc09b5c724cb9f",
     "grade": false,
     "grade_id": "cell-ce3ae9e7e95b1bda",
     "locked": true,
     "schema_version": 3,
     "solution": false,
     "task": false
    }
   },
   "source": [
    "## Question 1 (2 points)\n",
    "\n",
    "Complete the function `create_operator` that returns a controlled $U$ gate where $U$ is an operator with eigenvector $|1\\rangle$ and eigenvalue $e^{2\\pi i \\phi}$.\n",
    "\n",
    "The function `create_operator` has\n",
    "\n",
    "- Input: $\\phi$\n",
    "- Returns: Controlled $U$ gate with the properties described above\n",
    "\n",
    "Don't create any circuit. Only a gate should be returned."
   ]
  },
  {
   "cell_type": "code",
   "execution_count": 1,
   "metadata": {
    "deletable": false,
    "nbgrader": {
     "cell_type": "code",
     "checksum": "8254fd4bc4ba7eb5a837b0525ac5f1b3",
     "grade": false,
     "grade_id": "cell-1209ccd054e2ce48",
     "locked": false,
     "schema_version": 3,
     "solution": true,
     "task": false
    }
   },
   "outputs": [],
   "source": [
    "from cirq import CZPowGate\n",
    "\n",
    "def create_operator(phi):\n",
    "    CU = CZPowGate(exponent=phi*2)\n",
    "    \n",
    "    # Do not modify anything below this line  \n",
    "    return CU"
   ]
  },
  {
   "cell_type": "code",
   "execution_count": 2,
   "metadata": {},
   "outputs": [
    {
     "name": "stdout",
     "output_type": "stream",
     "text": [
      "[[ 1.        +0.j          0.        +0.j          0.        +0.j\n",
      "   0.        +0.j        ]\n",
      " [ 0.        +0.j          1.        +0.j          0.        +0.j\n",
      "   0.        +0.j        ]\n",
      " [ 0.        +0.j          0.        +0.j          1.        +0.j\n",
      "   0.        +0.j        ]\n",
      " [ 0.        +0.j          0.        +0.j          0.        +0.j\n",
      "  -0.80901699-0.58778525j]]\n",
      "(-0.8090169943749475-0.587785252292473j)\n"
     ]
    }
   ],
   "source": [
    "# You can use this code to test your function by checking the bottom right corner of the unitary matrix\n",
    "import cirq\n",
    "from cmath import exp, pi\n",
    "\n",
    "def test(phi):\n",
    "    CU = create_operator(phi)\n",
    "    unitaryMatrix = cirq.unitary(CU)\n",
    "    print(unitaryMatrix)\n",
    "\n",
    "phi=3/5\n",
    "test(phi)\n",
    "print(exp(2*pi*phi*1j))"
   ]
  },
  {
   "cell_type": "code",
   "execution_count": 3,
   "metadata": {
    "deletable": false,
    "editable": false,
    "nbgrader": {
     "cell_type": "code",
     "checksum": "70ffc17e6da75172fd6e8f9ad3cd0741",
     "grade": true,
     "grade_id": "cell-69b5bef54dfed34c",
     "locked": true,
     "points": 1,
     "schema_version": 3,
     "solution": false,
     "task": false
    }
   },
   "outputs": [],
   "source": [
    "# hidden tests in this cell will be used for grading."
   ]
  },
  {
   "cell_type": "code",
   "execution_count": 4,
   "metadata": {
    "deletable": false,
    "editable": false,
    "nbgrader": {
     "cell_type": "code",
     "checksum": "953354eea20b310acd65e310714229a5",
     "grade": true,
     "grade_id": "cell-9f992189d7c3e6ce",
     "locked": true,
     "points": 1,
     "schema_version": 3,
     "solution": false,
     "task": false
    }
   },
   "outputs": [],
   "source": [
    "# hidden tests in this cell will be used for grading."
   ]
  },
  {
   "cell_type": "markdown",
   "metadata": {
    "deletable": false,
    "editable": false,
    "nbgrader": {
     "cell_type": "markdown",
     "checksum": "0fe45ce422156d7df2cc9eb04e154ac3",
     "grade": false,
     "grade_id": "cell-69a226588a84da96",
     "locked": true,
     "schema_version": 3,
     "solution": false,
     "task": false
    }
   },
   "source": [
    "## Question 2 (8 points)\n",
    "\n",
    "Complete the function `estimate_phi` such that given a controlled $U$ gate where $U$ is an operator with eigenvector $|1\\rangle$ and eigenvalue $e^{2\\pi i \\phi}$, it estimates and returns $\\phi$.\n",
    "\n",
    "The function `estimate_phi` has\n",
    "\n",
    "- Input: Controlled $U$ gate\n",
    "- Returns: Estimate for phi \n",
    "\n",
    "You are given iqft and qpe algorithms and you can use them in your solution. Let the size of the first register equal 10."
   ]
  },
  {
   "cell_type": "code",
   "execution_count": 5,
   "metadata": {},
   "outputs": [],
   "source": [
    "def iqft(n,qubits,circuit):\n",
    "    \n",
    "    #Swap the qubits\n",
    "    for i in range(n//2):\n",
    "        circuit.append(SWAP(qubits[i],qubits[n-i-1]), strategy = InsertStrategy.NEW)\n",
    "     \n",
    "    #For each qubit\n",
    "    for i in range(n-1,-1,-1):\n",
    "        #Apply CR_k gates where j is the control and i is the target\n",
    "        k=n-i #We start with k=n-i\n",
    "        for j in range(n-1,i,-1):\n",
    "            #Define and apply CR_k gate\n",
    "            crk = CZPowGate(exponent = -2/2**(k))\n",
    "            circuit.append(crk(qubits[j],qubits[i]),strategy = InsertStrategy.NEW)\n",
    "            k=k-1 #Decrement at each step\n",
    "            \n",
    "        #Apply Hadamard to the qubit\n",
    "        circuit.append(H(qubits[i]),strategy = InsertStrategy.NEW)\n",
    "\n",
    "def qpe(t,control, target, circuit, CU):\n",
    "    \n",
    "    #Apply Hadamard to control qubits\n",
    "    circuit.append(cirq.H.on_each(control))\n",
    "    \n",
    "    #Apply CU gates\n",
    "    for i in range(t):\n",
    "        #Obtain the power of CU gate \n",
    "        CUi = CU**(2**i)\n",
    "        #Apply CUi gate where t-i-1 is the control\n",
    "        circuit.append(CUi(control[t-i-1],*target))\n",
    "        \n",
    "    #Apply inverse QFT\n",
    "    iqft(t,control,circuit)"
   ]
  },
  {
   "cell_type": "code",
   "execution_count": 6,
   "metadata": {
    "deletable": false,
    "nbgrader": {
     "cell_type": "code",
     "checksum": "f396238897be99f5cee97efb14c674ba",
     "grade": false,
     "grade_id": "cell-28c6d391223a0a01",
     "locked": false,
     "schema_version": 3,
     "solution": true,
     "task": false
    }
   },
   "outputs": [],
   "source": [
    "import cirq\n",
    "from cirq.circuits import InsertStrategy\n",
    "from cirq import H, SWAP, CZPowGate\n",
    "def estimate_phi(mystery):\n",
    "    \n",
    "\n",
    "    #Create cirucit\n",
    "    circuit = cirq.Circuit()\n",
    "  \n",
    "    t=10\n",
    "    n=1\n",
    "    \n",
    "    control = [cirq.LineQubit(i) for i in range(t) ]\n",
    "    target = [cirq.LineQubit(i) for i in range(t,t+n) ]\n",
    "    circuit.append(cirq.X.on_each(target))\n",
    "    qpe(t,control, target, circuit, mystery)\n",
    "    circuit.append(cirq.measure(*control, key='result'))\n",
    "\n",
    "\n",
    "\n",
    "\n",
    "    s=cirq.Simulator()\n",
    "    samples=s.run(circuit, repetitions=1000)\n",
    "    \n",
    "    #Most frequent observation\n",
    "    freq = list(samples.histogram(key='result').keys())[0]\n",
    "    \n",
    "    return freq/2**t"
   ]
  },
  {
   "cell_type": "code",
   "execution_count": 7,
   "metadata": {},
   "outputs": [],
   "source": [
    "import math\n",
    "# You can use this code to test your function by different operators\n",
    "def test_qpe(phi):\n",
    "    operator = CZPowGate(exponent=2*phi)\n",
    "    return estimate_phi(operator)\n",
    "\n",
    "assert(math.isclose(test_qpe(0.23),0.23,rel_tol=1e-2))"
   ]
  },
  {
   "cell_type": "code",
   "execution_count": 8,
   "metadata": {
    "deletable": false,
    "editable": false,
    "nbgrader": {
     "cell_type": "code",
     "checksum": "e9e9b416bc32e7eefc76e1595039ecfd",
     "grade": true,
     "grade_id": "cell-7a498dc5e783888f",
     "locked": true,
     "points": 4,
     "schema_version": 3,
     "solution": false,
     "task": false
    }
   },
   "outputs": [],
   "source": [
    "# hidden tests will be used for grading."
   ]
  },
  {
   "cell_type": "code",
   "execution_count": null,
   "metadata": {
    "deletable": false,
    "editable": false,
    "nbgrader": {
     "cell_type": "code",
     "checksum": "9402a897847c242e392faaa6f4a96649",
     "grade": true,
     "grade_id": "cell-c068da8c51694c52",
     "locked": true,
     "points": 4,
     "schema_version": 3,
     "solution": false,
     "task": false
    }
   },
   "outputs": [],
   "source": []
  },
  {
   "cell_type": "markdown",
   "metadata": {},
   "source": [
    "## Question 3 (1 point)\n",
    "\n",
    "Complete the function `calcL` such that given $N$, it returns the size $L$ of the target register. Note that $L = \\log_2 N$. \n",
    "\n",
    "The function `calcL` has\n",
    "\n",
    "- Input: $N$\n",
    "- Returns: size of the target register"
   ]
  },
  {
   "cell_type": "code",
   "execution_count": 9,
   "metadata": {
    "deletable": false,
    "nbgrader": {
     "cell_type": "code",
     "checksum": "0e4612adc8aa3c9e0af72e482d72075c",
     "grade": false,
     "grade_id": "cell-4d50dbdbe7c3b0e0",
     "locked": false,
     "schema_version": 3,
     "solution": true,
     "task": false
    }
   },
   "outputs": [],
   "source": [
    "import math\n",
    "def calcL(N):\n",
    "    L = math.ceil(math.log(N,2))\n",
    "    return L"
   ]
  },
  {
   "cell_type": "code",
   "execution_count": 10,
   "metadata": {},
   "outputs": [
    {
     "name": "stdout",
     "output_type": "stream",
     "text": [
      "5\n",
      "6\n"
     ]
    }
   ],
   "source": [
    "# You can use this cell to test your function\n",
    "\n",
    "print(calcL(30))\n",
    "print(calcL(62))"
   ]
  },
  {
   "cell_type": "code",
   "execution_count": null,
   "metadata": {
    "deletable": false,
    "editable": false,
    "nbgrader": {
     "cell_type": "code",
     "checksum": "d7dd87c7ccdbfc60803485458041b157",
     "grade": true,
     "grade_id": "cell-4472f5d730dc849c",
     "locked": true,
     "points": 1,
     "schema_version": 3,
     "solution": false,
     "task": false
    }
   },
   "outputs": [],
   "source": [
    "# hidden tests will be used for grading."
   ]
  },
  {
   "cell_type": "markdown",
   "metadata": {},
   "source": [
    "## Question 4 (1 point)\n",
    "\n",
    "Complete the function `calct` such that given $N$, it returns the size $t$ of the control register. Note that $t = 2L + 1 + \\big \\lceil \\log \\big( 2 + \\frac{1}{2\\epsilon} \\big) \\big \\rceil$. Let $\\epsilon=0.1$. \n",
    "\n",
    "The function `calct` has\n",
    "\n",
    "- Input: $N$\n",
    "- Returns: size of the control register"
   ]
  },
  {
   "cell_type": "code",
   "execution_count": 11,
   "metadata": {
    "deletable": false,
    "nbgrader": {
     "cell_type": "code",
     "checksum": "c09cba51df21cc0fa180caad472e4519",
     "grade": false,
     "grade_id": "cell-5e4eb5f0e18c826c",
     "locked": false,
     "schema_version": 3,
     "solution": true,
     "task": false
    }
   },
   "outputs": [],
   "source": [
    "import math\n",
    "def calct(N):\n",
    "    L = math.ceil(math.log(N,2))\n",
    "    t = 2 * L +1 + math.ceil((math.log(7,2)))\n",
    "    return t"
   ]
  },
  {
   "cell_type": "code",
   "execution_count": 12,
   "metadata": {},
   "outputs": [
    {
     "name": "stdout",
     "output_type": "stream",
     "text": [
      "14\n",
      "16\n"
     ]
    }
   ],
   "source": [
    "# You can use this cell to test your function\n",
    "\n",
    "print(calct(30)) #For 30 the answer is 14\n",
    "print(calct(62)) #For 62 the answer is 16"
   ]
  },
  {
   "cell_type": "code",
   "execution_count": null,
   "metadata": {
    "deletable": false,
    "editable": false,
    "nbgrader": {
     "cell_type": "code",
     "checksum": "e476cb655ea75aae7fb03fd0f801a067",
     "grade": true,
     "grade_id": "cell-d35e8e77a113a36f",
     "locked": true,
     "points": 1,
     "schema_version": 3,
     "solution": false,
     "task": false
    }
   },
   "outputs": [],
   "source": [
    "# hidden tests will be used for grading."
   ]
  },
  {
   "cell_type": "markdown",
   "metadata": {},
   "source": [
    "## Question 5 ( 2 points)\n",
    "\n",
    "Complete the function `create_regs` such that given the size of the control and target registers, it returns the control and target registers.\n",
    "\n",
    "The function `create_regs` has\n",
    "\n",
    "- Input: $L$ and $t$\n",
    "- Returns: Two registers `control` and `target`"
   ]
  },
  {
   "cell_type": "code",
   "execution_count": 13,
   "metadata": {
    "deletable": false,
    "nbgrader": {
     "cell_type": "code",
     "checksum": "12ff0bd3fcc22a139ace97c3fe66f0ae",
     "grade": false,
     "grade_id": "cell-981c159daba85b71",
     "locked": false,
     "schema_version": 3,
     "solution": true,
     "task": false
    }
   },
   "outputs": [],
   "source": [
    "import cirq\n",
    "def create_regs(t,L):\n",
    "    e = 0.1\n",
    "    num_t = 2*L+1+math.ceil(math.log2(2+1/(2*e)))\n",
    "    t=num_t\n",
    "    n=L\n",
    "    control =  [cirq.LineQubit(i) for i in range(1,t+1) ]\n",
    "    target  =  [cirq.LineQubit(i) for i in range(t+1,t+1+n) ]\n",
    "    return control, target"
   ]
  },
  {
   "cell_type": "code",
   "execution_count": null,
   "metadata": {
    "deletable": false,
    "editable": false,
    "nbgrader": {
     "cell_type": "code",
     "checksum": "2e3ade86ee9b8770eb46fbd30191fbe4",
     "grade": true,
     "grade_id": "cell-4114095d75497f1f",
     "locked": true,
     "points": 1,
     "schema_version": 3,
     "solution": false,
     "task": false
    }
   },
   "outputs": [],
   "source": [
    "# hidden tests will be used for grading.\n",
    "# If this cell results in an error, your implementation is incorrect"
   ]
  },
  {
   "cell_type": "code",
   "execution_count": null,
   "metadata": {
    "deletable": false,
    "editable": false,
    "nbgrader": {
     "cell_type": "code",
     "checksum": "76eed1a7983bdf2bb2728b0d8580483f",
     "grade": true,
     "grade_id": "cell-b7e2645d83e11864",
     "locked": true,
     "points": 1,
     "schema_version": 3,
     "solution": false,
     "task": false
    }
   },
   "outputs": [],
   "source": [
    "# hidden tests will be used for grading.\n",
    "# If this cell results in an error, your implementation is incorrect"
   ]
  },
  {
   "cell_type": "markdown",
   "metadata": {},
   "source": [
    "## Question 6 (8 points)\n",
    "\n",
    "Complete the function `order` so that given $x$ and $N$, it returns the histogram of samples from the order finding circuit.\n",
    "\n",
    "The function `order` has\n",
    "\n",
    "- Input: $x$ and $N$\n",
    "- Returns: A histogram of samples\n",
    "\n",
    "Notes:\n",
    "\n",
    "- You are given a function named $U_x$ which implements $U_x |y\\rangle \\rightarrow |xy {\\mod N}\\rangle $ and returns its controlled version. Run the following cell to load the function. In order to use the function you should pass $x$ and $N$ as parameter.\n",
    "\n",
    "    <pre>CU=Ux(x,N)</pre>\n",
    "\n",
    "- You are also given the code for `qpe` and `iqft`."
   ]
  },
  {
   "cell_type": "code",
   "execution_count": 14,
   "metadata": {},
   "outputs": [],
   "source": [
    "import numpy as np\n",
    "def Ux(x,N):\n",
    "\n",
    "    k=1\n",
    "    while(N>2**k):\n",
    "        k=k+1\n",
    "        \n",
    "    u = np.zeros([2**k, 2**k], dtype = int) \n",
    "\n",
    "    for i in range(N):\n",
    "        u[x*i%N][i]=1\n",
    "    for i in range(N,2**k):\n",
    "        u[i][i]=1\n",
    "        \n",
    "\n",
    "    XU = cirq.MatrixGate(u).controlled()\n",
    "    return XU"
   ]
  },
  {
   "cell_type": "code",
   "execution_count": 15,
   "metadata": {},
   "outputs": [],
   "source": [
    "import cirq\n",
    "from cirq.circuits import InsertStrategy\n",
    "from cirq import H, SWAP, CZPowGate\n",
    "def iqft(n,qubits,circuit):\n",
    "    \n",
    "    #Swap the qubits\n",
    "    for i in range(n//2):\n",
    "        circuit.append(SWAP(qubits[i],qubits[n-i-1]), strategy = InsertStrategy.NEW)\n",
    "     \n",
    "    #For each qubit\n",
    "    for i in range(n-1,-1,-1):\n",
    "        #Apply CR_k gates where j is the control and i is the target\n",
    "        k=n-i #We start with k=n-i\n",
    "        for j in range(n-1,i,-1):\n",
    "            #Define and apply CR_k gate\n",
    "            crk = CZPowGate(exponent = -2/2**(k))\n",
    "            circuit.append(crk(qubits[j],qubits[i]),strategy = InsertStrategy.NEW)\n",
    "            k=k-1 #Decrement at each step\n",
    "            \n",
    "        #Apply Hadamard to the qubit\n",
    "        circuit.append(H(qubits[i]),strategy = InsertStrategy.NEW)\n",
    "\n",
    "def qpe(t,control, target, circuit, CU):\n",
    "    \n",
    "    #Apply Hadamard to control qubits\n",
    "    circuit.append(cirq.H.on_each(control))\n",
    "    \n",
    "    #Apply CU gates\n",
    "    for i in range(t):\n",
    "        #Obtain the power of CU gate \n",
    "        CUi = CU**(2**i)\n",
    "        #Apply CUi gate where t-i-1 is the control\n",
    "        circuit.append(CUi(control[t-i-1],*target))\n",
    "        \n",
    "    #Apply inverse QFT\n",
    "    iqft(t,control,circuit)"
   ]
  },
  {
   "cell_type": "code",
   "execution_count": 16,
   "metadata": {
    "deletable": false,
    "nbgrader": {
     "cell_type": "code",
     "checksum": "37959a2a696cf856df486dd062a9e29a",
     "grade": false,
     "grade_id": "cell-d6953b0d7c212dfc",
     "locked": false,
     "schema_version": 3,
     "solution": true,
     "task": false
    }
   },
   "outputs": [],
   "source": [
    "import cirq\n",
    "from cirq import X, SWAP\n",
    "\n",
    "def order(x,N):\n",
    "    #Create a circuit\n",
    "    circuit = cirq.Circuit()\n",
    "  \n",
    "\n",
    "    L=math.ceil(math.log2(N))\n",
    "    e = 0.1\n",
    "    num_t = 2*L+1+math.ceil(math.log2(2+1/(2*e)))\n",
    "    t=num_t\n",
    "    n=L\n",
    "    control = [cirq.LineQubit(i) for i in range(1,t+1) ]\n",
    "    target = [cirq.LineQubit(i) for i in range(t+1,t+1+n) ]\n",
    "    circuit.append(cirq.X(target[n-1]))\n",
    "    CU=Ux(x,N)\n",
    "    qpe(t,control, target, circuit, CU)\n",
    "\n",
    "\n",
    "\n",
    "    #Measure the control register\n",
    "    circuit.append(cirq.measure(*control, key='result'))\n",
    "\n",
    "    #Sample the circuit\n",
    "    s=cirq.Simulator()\n",
    "    samples=s.run(circuit, repetitions=1000)\n",
    "\n",
    "    # Return a histogram of samples\n",
    "    results= samples.histogram(key='result')\n",
    "    return results"
   ]
  },
  {
   "cell_type": "code",
   "execution_count": 17,
   "metadata": {},
   "outputs": [
    {
     "name": "stdout",
     "output_type": "stream",
     "text": [
      "Counter({0: 191, 3277: 180, 13107: 179, 9830: 122, 6554: 122, 9831: 57, 6553: 47, 9832: 12, 6555: 7, 13106: 7, 3276: 7, 9829: 6, 13108: 6, 6556: 6, 3278: 6, 9833: 5, 6552: 4, 9827: 3, 13109: 3, 6551: 3, 13104: 2, 6559: 2, 9828: 2, 6558: 2, 9739: 1, 6550: 1, 6560: 1, 3267: 1, 13113: 1, 9821: 1, 6473: 1, 3279: 1, 9854: 1, 9837: 1, 9836: 1, 9799: 1, 3280: 1, 13068: 1, 6557: 1, 6488: 1, 13105: 1, 6394: 1, 3282: 1})\n"
     ]
    }
   ],
   "source": [
    "#You can use this cell to test your function\n",
    "\n",
    "results = order(4,31)\n",
    "print(results)"
   ]
  },
  {
   "cell_type": "code",
   "execution_count": 18,
   "metadata": {
    "deletable": false,
    "editable": false,
    "nbgrader": {
     "cell_type": "code",
     "checksum": "7d1e2bc09cf9b72db7935fad231a806d",
     "grade": true,
     "grade_id": "cell-0a4e8d27c4788f91",
     "locked": true,
     "points": 6,
     "schema_version": 3,
     "solution": false,
     "task": false
    }
   },
   "outputs": [],
   "source": [
    "# hidden tests will be used for grading.\n",
    "# If this cell results in an error, your implementation is incorrect"
   ]
  },
  {
   "cell_type": "code",
   "execution_count": null,
   "metadata": {},
   "outputs": [],
   "source": []
  }
 ],
 "metadata": {
  "kernelspec": {
   "display_name": "Python 3",
   "language": "python",
   "name": "python3"
  },
  "language_info": {
   "codemirror_mode": {
    "name": "ipython",
    "version": 3
   },
   "file_extension": ".py",
   "mimetype": "text/x-python",
   "name": "python",
   "nbconvert_exporter": "python",
   "pygments_lexer": "ipython3",
   "version": "3.7.3"
  }
 },
 "nbformat": 4,
 "nbformat_minor": 5
}
