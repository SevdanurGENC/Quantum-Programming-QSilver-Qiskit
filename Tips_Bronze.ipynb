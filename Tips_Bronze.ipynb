{
 "cells": [
  {
   "cell_type": "markdown",
   "id": "individual-webster",
   "metadata": {},
   "source": [
    "<table  align=\"left\" width=\"100%\"> <tr>\n",
    "        <td  style=\"background-color:#ffffff;\"><a href=\"https://qsoftware.lu.lv/index.php/qworld/\" target=\"_blank\"><img src=\"https://qworld.net/wp-content/uploads/2019/10/cropped-logo_top-1.jpg\" width=\"35%\" align=\"left\"></a></td>\n",
    "        <td  align=\"right\" style=\"background-color:#ffffff;vertical-align:bottom;horizontal-align:right\">\n",
    "            prepared by Özlem Salehi (<a href=\"http://qworld.lu.lv/index.php/qturkey/\" target=\"_blank\">QTurkey</a>)\n",
    "        </td>        \n",
    "</tr></table>"
   ]
  },
  {
   "cell_type": "markdown",
   "id": "attended-blond",
   "metadata": {},
   "source": [
    "## Tips for Teahcing Bronze Material"
   ]
  },
  {
   "cell_type": "markdown",
   "id": "suspected-vatican",
   "metadata": {},
   "source": [
    "### General Tips"
   ]
  },
  {
   "cell_type": "markdown",
   "id": "individual-survival",
   "metadata": {},
   "source": [
    "- Don't use phrases like \"This is easy\", \"This is trivial\". This demotivates the participants a lot.\n",
    "- Try to make it as interactive as possible, asking the participants some questions so that they can reply in chat. This helps keeping the participants active and also you can see if they really understand or not.\n",
    "- Don't forget to ask if the participants have any questions before introducing a new concept.\n",
    "- If you don't know something, you can just accept that you don't know and tell the participants that you will learn about it and you can discuss this afterwards. "
   ]
  },
  {
   "cell_type": "markdown",
   "id": "separated-porter",
   "metadata": {},
   "source": [
    "### Basics of classical systems"
   ]
  },
  {
   "cell_type": "markdown",
   "id": "wound-exposure",
   "metadata": {},
   "source": [
    "#### One Bit\n",
    "\n",
    "Here you should concretely explain what a bit is. You can give a concrete example such as a lamp, a pencil looking up an down etc. In our computers which are electronic, this is transistor: it is on if the voltage is high and off otherwise.\n",
    "\n",
    "Don't forget to explain what operator is before you move on to the 4 possible operators. You should make sure that participants get the table representation. In particular, 0 and 1 inside the table and 0 and 1 as states are confused. Ask the participants whether each operator is reversible or not."
   ]
  },
  {
   "cell_type": "markdown",
   "id": "invisible-opposition",
   "metadata": {},
   "source": [
    "#### Coin Flipping\n",
    "\n",
    "Here the idea is to move on to the probabilistic bit. A probabilistic bit again has two states, but this time it is in each state with some probability. Table representation of coin flip is important. Here, initial state may be confusing. This may be thought as \"the coin is facing the heads side on the table, and now we are flipping, what is the probability of getting tails?\" In both tables, the columns are identical, as the probability of heads and tails is not dependent on the previous state. Now, you can also go back to the previous notebook and indicate that the 0 and 1 inside the tables in the previous notebook could be interpreted as probabilities. \n",
    "\n",
    "About the simulation: You can hint that in quantum systems, the outcomes are probabilitic and therefore, one needs to simulate it multiple times to collect statistics, as in the case of coin. As the number of trials increase, you get better estimates. This is law of large numbers."
   ]
  },
  {
   "cell_type": "markdown",
   "id": "guilty-prevention",
   "metadata": {},
   "source": [
    "#### Coin Flipping Game\n",
    "\n",
    "This is one of the hardest notebooks of this section. It starts with an intoruction to what probabilistic bit is. In the previous noeebook, we had identical columns in the table. This time, by using two biased coins, we will obtain a more general operator. This is the main aim of the notebook, together with giving the idea of how one can trace value of a bit step by step.\n",
    "\n",
    "The first difficulty comes in understanding the game. It is confusing because there is both heads/tails and euro/cent.\n",
    "\n",
    "We have two states: heads and tails. Based on if we currently have heads or tails, we determine which coin to pick. Hence, the probabilies of getting heads and tails in the next step depend on the current status of the coins. The first step is to make sure that everyone understands the table. \n",
    "\n",
    "Initial condition: Supposee that the coin is facing heads. (Hence, we start with one euro.) \n",
    "\n",
    "Tracing probabilities: In the next step , the probability of getting heads is 0.6. We can say this from the table as we know it was heads with probability 1. In general, it is a weighted sum: if it is heads, what is the probability of getting heads in the next round, if it is tails, what is the probability of getting heads in the next round. This is how we calculate the second order probabilities.  \n",
    "\n",
    "In the tasks, you can see that the values converge after a large number of coin tosses and it is independent of initial conditions. This is about Markov Chains and stationary distribution. You don't need to go into details. \n",
    "\n"
   ]
  },
  {
   "cell_type": "markdown",
   "id": "rental-badge",
   "metadata": {},
   "source": [
    "#### Probabilistic States\n",
    "\n",
    "Bu notebookta kolon vektörü ile state durumunu ifade etmeye geçiş yapılıyor. Bu anlaşılırsa kuantum sistemlere geçince oradakini anlamak da kolay oluyor. Neden ilki 0 ikinicisi 1, terzi olamaz mıydı gibi sorular gelebilir ama alışılagelen gösterim böyle. Temel mantık state sayısı kadar girdi olması.\n",
    "\n",
    "Girdi toplamları 1, girdileri 0'dan büyük eşit vektörlere stokastik vektör de deniyor. "
   ]
  },
  {
   "cell_type": "markdown",
   "id": "labeled-sympathy",
   "metadata": {},
   "source": [
    "#### Probabilistic Operators\n",
    "\n",
    "Bu notebookta amaçlardan biri probabilistik operatörlerin matrislerinin özelliklerini vermek: tüm kolonlar stokastik olmalı. Çünkü, bir proababilistic operator, probabilistic bir statei, yine probabilistic bir state'e götürmeli. Yani statein stokastik olma özelliğini korumalı.\n",
    "\n",
    "İkinci amaç da bu sistemlerin lineer evrildiğini, ve evrimin vektör matris çarpımı aracılığıyla takip edilebileceğini göstermek. Bunun için de coin flipping game notebookundaki statelerin aslında matris vektörü çarpımı yoluyla bulunabileceği gösteriliyor. "
   ]
  },
  {
   "cell_type": "markdown",
   "id": "primary-flavor",
   "metadata": {},
   "source": [
    "#### Two Probabilistic Bits\n",
    "\n",
    "Bu notebookun amacı iki olasılıksal bit bir araya gelince nasıl ifade ederiz onu göstermek. Kuantum sistemleri için de burada yazanların hepsi geçerli.\n",
    "\n",
    "Tensör çarpımını ve kurallarını anlatmak önemli. Bazen araya tensor çarpımı işareti koyup bazen koymamaız kafa karıştırabiliyor. [01] = [0][1] = [0] tensor [1] bunların aynı olduğunu ve iki biti gösterdiğini, 0.5[0]+0.5[1] gibi bir sistemin ise tek biti ifade ettiğini anlatmak önemli.Çünkü ikincisinin de iki biti anlattığı düşünülebiliyor."
   ]
  },
  {
   "cell_type": "markdown",
   "id": "pretty-falls",
   "metadata": {},
   "source": [
    "### Photons\n",
    "\n",
    "#### Quantum Coin Flipping\n",
    "\n",
    "Bu notebook amacı kuantum sistemlerin klasik sistemlerden daha farklı davranması ile ilgili deneysel olarak bir motivasyon vermek.\n",
    "\n",
    "Burada her bir fotonun yüzde 50 yansıma, yüzde 50 geçme ihtimali var. O yüzden mesela 100 kez foton gönderince, yaklaşık yarısı geçip yarısı yansıyor. \n",
    "\n",
    "İlk deney sonunda para atma gibi davrandığını düşünsek de, ikinci deney sonunda aslında para atma gibi davranmadığını görüyoruz.\n",
    "\n",
    "Bu notebookta kubit kavramına biraz girilebilir. Klasik fizik özellikleri taşıyan ve iki farklı durumu olan bir cisim bit işlevini görebiliyor. Bu bir lamba anahtarı da olabilir bir kaleme de. Kuantum fiziği özelliklerini taşıyan ve iki farklı durumu olan bir parçacık da kubit oluyor, foton gibi. Fotonun yatay ve dikey polarizasyon özellikleri 0 ve 1 görevini görüyor. Ama ilerleyen notebooklarda göreceğimiz üzere, fotonlar kuantum mekaniği özelliklerrini taşıdığı için klasik bitlere göre farklı davranıyorlar. "
   ]
  },
  {
   "cell_type": "markdown",
   "id": "altered-sacrifice",
   "metadata": {},
   "source": [
    "### Qiskit basics\n",
    "\n",
    "#### First Quantum Programs with Qiskit\n",
    "\n",
    "This is the first notebook qiskit is introduced. Although we have not covered the properties of qubits yet, in principal, all reversible classical circuits can be implmeneted as a quantum circuit. This is what we do here. We implement a NOT operation in a quantum circuit.\n",
    "\n",
    "The main things to emphasize in this notebook are the following:\n",
    "- Syntax of forming circuits: (what quantum and classical registers are needed for) A common question asked by the participants is \"why we need classical register?\" The resason is to save the outcome of the measurement which is classical. (Note that after measurement what you get is a classical output) In general, it is also possible to construct circuits without creating registers first i.e. QuantumCircuit(3,3), or it is possible to create a circuit with multiple quantum registers. This is not what we usually do in Bronze, but in case someone asks, you can say that it is also possible.\n",
    "\n",
    "- Components when you print the circuit: Such as X gate and measurement symbols\n",
    "\n",
    "- Measurement: You need to measure a qubit to read the result. Otherwise. all qubits will result in 0, as they are initially all 0. (This is important! All qubits are initially in 0 state) You can try removing the measure command and see what happens. If you will measure 5 qubits, then you need at least 5 classical bits. It is possible that there are 10 qubtis in a circuit but you only measure 5 of them, so you need a classical register of only 5 bits.\n",
    "\n",
    "- Shots: Since quantum circuits are probabilistic in general, we run the same circuit more than once. This is the number of shots. Same circuit is constructed and executed independently multiple times. Default is 1024 if you do not specify anything. There are multiple simulators in Qiskit. The one we use here where we specify shots and colect statistics is the qasm_simulator. In this notebook, this is hard to see as NOT gate acts deterministic and it always gives the same output. This will become clear in the next notebook. (It is important to note that we are just \"simulating\" a quantum circuit, not running somehing on real quantum computer. If we did it, it is very likely that we see ten 0s and 990 1s when we are expecting 1000 1s, because of the noise.)\n",
    "\n",
    "- Multiple qubits: This is really important. The qubit order in qiskit is reversed. You read the state from right to left. When you print a circuit, qubits are again in reverse order. This is somehting that is confused at the beginning."
   ]
  },
  {
   "cell_type": "markdown",
   "id": "wired-africa",
   "metadata": {},
   "source": [
    "### Basics of quantum systems\n",
    "\n",
    "#### Hadamard Operator\n",
    "\n",
    "The operator that corresponds to the coin flipping in the photon notebook is actually Hadamard. In this notebook, you verify this by implementing first and third experiments through a quantum circuit. First experiment is just a single Hadamard, while the second one is two consecutive Hadamards. In this notebook, the matrix for Hadamard is not presented yet but if you need, you can write it."
   ]
  },
  {
   "cell_type": "markdown",
   "id": "honest-worcester",
   "metadata": {},
   "source": [
    "#### One Qubit\n",
    "\n",
    "Now we introduce the Ket notation. 0 and 1 states are actually what we have alrady seen. NOT gate is a quantum operator anc you can check its affect on 0 and 1 states, through matrix vector multiplication. It should also be automatic that $X|0\\rangle = |1\\rangle$ and vice-versa. Now we also learn about Hadamard matrix, and how it affects on the qubit's state. Now it is clear why we observe 0 and 1 with equal probability. Note the - sign when you apply Hadamard to 1 state, and how it affects the rest of the calculations for instance when you apply two consecutive Hadamards (although this is not given, you can show it) \n",
    "\n",
    "In this notebook, we also introduce amplitude and probability concepts. Now we know that amplitudes can be negative and their square gives the probabilities of observing each state. After measurement, a qubit becomes a classical bit, either 0 or 1. Note that without measurement, we can not extract any information about a qubit."
   ]
  },
  {
   "cell_type": "markdown",
   "id": "charming-jonathan",
   "metadata": {},
   "source": [
    "#### Quantum State\n",
    "\n",
    "In this notebook, we define the quantum state in a more formal way. Note that in general amplitudes can be complex numbers but in Bronze, we stick to real numbers. Quantum operators have a natural restriction: They should preserve the length of the vector. Remember that in probabilistic systems, they were mapping stochastic vectors to stocasthic ones. It is similar here: quantum operators map quantum states to quantum states: states with length 1. Note that they are also reversible as quantum mechanics is reversible. Such operators are called unitary matrices in general. When you stick to real numbers only, they are called orthogonal/orthonormal. Each column is a unit vector and columns are orthogaal to each other."
   ]
  },
  {
   "cell_type": "markdown",
   "id": "incorrect-karaoke",
   "metadata": {},
   "source": [
    "#### Visualization of a (Real-Valued) Qubit\n",
    "\n",
    "As the amplitude squares add up to 1, it is very natural to visualize this on a 2D plane. Note that any quantum state lise on the unit circle. (Again this is because we restrict ourselves to real numbers, actually qubits are represented in a more complex structure called Bloch sphere)\n",
    "\n",
    "As each quantum state lies on the unit circle, we can associate an angle with a quantum state. sin^2 and cos^2 are related to probabilities of observing states 0 and 1 by definition. It is important to show that if a state is closer to 0, then the probability of observing 0 is higher and vice versa. \n",
    "\n",
    "Also, it is important to note that one can define a quantum state just by specifiying an angle. This gives us an alternative way to craete a random quantum state.\n",
    "\n",
    "NOTE: You can switch the order of this and the following notebook."
   ]
  },
  {
   "cell_type": "markdown",
   "id": "different-biodiversity",
   "metadata": {},
   "source": [
    "#### Superposition and Measurement\n",
    "\n",
    "You might have mentioned superposition as early as one qubit notebook, when you defined 0 and 1 states. This is actually the first place it it defined in this material. In ths notebook, we trace the experiments step by step. It is important that you are confortable with those calculations, and preferably, you should do it yourselves and show to participants step by step instead of going over what is written down in the notebook. \n",
    "\n",
    "Second experiment is a bit tricky, as an operation is applied based on the output of a measurement. This is known as the classical if. You should how how to implement this. \n",
    "\n",
    "At this point, participants should be confortable with $|+\\rangle $ and $|-\\rangle$ states. When you write $H|0\\rangle $, it should be immediate that this is $|+\\rangle $, and also  $H|0+\\rangle = |0\\rangle $ and same for 1 and - states. This can be verified both by checking that $HH=I$ and also by applying the $H$ matrix step by step."
   ]
  },
  {
   "cell_type": "markdown",
   "id": "wanted-windsor",
   "metadata": {},
   "source": [
    " \n",
    "### Quantum operators on a (real-valued) qubit\n",
    "\n",
    "#### Operations on the Unit Circle\n",
    "\n",
    "The aim of this and following two notebooks is two visualize the operators performed on a qubit on the 2D plot. \n",
    "\n",
    "This notebook introduces ry gate, which is a rotation gate. Important thing to note that is you need two give 2 times the angle you want to rotate with. You can see this by checking the operator corresponding to the ry gate in qiskit. The reason behind is related to Bloch sphere. (The angle between 0 and 1 states in Bloch Sphere is 180 degrees while it is 90 in 2D plane."
   ]
  },
  {
   "cell_type": "markdown",
   "id": "passive-sacramento",
   "metadata": {},
   "source": [
    "#### Rotations\n",
    "\n",
    "Any operation you can perform on a single qubit corresponds to either a rotation or a reflection in the 2D plane. This is a very simple exercise. Take any 2x2 matrix and impose the conditions of being orthonormal. You will end up either with a rotation or a reflection matrix. \n",
    "\n",
    "One thing introduced in this notebook is statevector simulator. Using statevector simulator, instead of collecting statistics, you can get the exact state. This is like debugging as you can access the actual amplitudes of each state. Note that this is not possible in a quantum computer. As we are doing a simulation, our computer just performs some matrix vector multiplications. If optimization level is not 0, then there might be some phase (for intance an extra - sign) This is because to simulate in a more optimal way, such sign differences may be omitted)\n",
    "\n",
    "Note that if you first make a measurement and then use statevector simulator, what you will see will be just a vector representing a classical state i.e. a vector with a single 1 in some position indicating the measurement result. \n",
    "\n",
    "Now using this statevector simulator, you can rotate and check the new state of the circuit, step by step, which is asked in the tasks."
   ]
  },
  {
   "cell_type": "markdown",
   "id": "alike-canyon",
   "metadata": {},
   "source": [
    "#### Reflections\n",
    "\n",
    "A new gate is introduced in this notebook. Z gate does not change state 0 but flips the sign of the 1 state. \n",
    "\n",
    "Take 0 and apply HZH consecutively to show what happens. \n",
    "\n",
    "In this notebook, we see that many of the operators we have seen so far correspond to reflections. When you square those operators, you get identity, as if you reflect something twice, you are back in the starting point.\n",
    "\n",
    "There is no reflection gate. Actually, in Bloch sphere, all operators can be represented by rotations. This is sometimes confusing for participants, especially when they move on to silver, as we don't mention reflections any more."
   ]
  },
  {
   "cell_type": "markdown",
   "id": "therapeutic-south",
   "metadata": {},
   "source": [
    "#### Quantum Tomography\n",
    "\n",
    "In this notebook, the aim is to reconstruct a qubit state by making some measurements. Suppose that you are given 1000 copies of the same qubit. Making meeasurement alone is not enough as you can not differentiate between qubits with angles theta and 180-theta. You need to perform some rotations to see which angle it is. For instance say it is either 30 or 150, but you don't know which one. If you rotate by -30, if it is 30, then you will observe 0 with probability 1. But if it is 150 this is not the case. This is how you can differentiate between two. "
   ]
  },
  {
   "cell_type": "markdown",
   "id": "cathedral-operation",
   "metadata": {},
   "source": [
    "### Entanglement and protocols\n",
    "\n",
    "[Two Qubits](quantum-with-qiskit/Q60_Two_Qubits.ipynb) &nbsp;|&nbsp;\n",
    "[Phase Kickback](quantum-with-qiskit/Q64_Phase_Kickback.ipynb) &nbsp;|&nbsp;\n",
    "[Entanglement and Superdense Coding](quantum-with-qiskit/Q72_Superdense_Coding.ipynb) &nbsp;|&nbsp;\n",
    "[Quantum Teleportation](quantum-with-qiskit/Q76_Quantum_Teleportation.ipynb) &nbsp;|&nbsp;\n",
    "[Multiple Control Constructions](quantum-with-qiskit/Q80_Multiple_Control_Constructions.ipynb) &nbsp;|&nbsp;\n",
    "[Exercises](quantum-with-qiskit/Exercises_Quantum_Correlation.ipynb)\n",
    "\n",
    "### Grover's search algorithm\n",
    "\n",
    "[Inversion About the Mean](quantum-with-qiskit/Q84_Inversion_About_the_Mean.ipynb) &nbsp;|&nbsp;\n",
    "[Grover's Search: One Qubit Representation](quantum-with-qiskit/Q88_Grovers_Search_One_Qubit_Representation.ipynb) &nbsp;|&nbsp;\n",
    "[Grover's Search: Implementation](quantum-with-qiskit/Q92_Grovers_Search_Implementation.ipynb)"
   ]
  }
 ],
 "metadata": {
  "kernelspec": {
   "display_name": "Python 3",
   "language": "python",
   "name": "python3"
  },
  "language_info": {
   "codemirror_mode": {
    "name": "ipython",
    "version": 3
   },
   "file_extension": ".py",
   "mimetype": "text/x-python",
   "name": "python",
   "nbconvert_exporter": "python",
   "pygments_lexer": "ipython3",
   "version": "3.7.3"
  }
 },
 "nbformat": 4,
 "nbformat_minor": 5
}
